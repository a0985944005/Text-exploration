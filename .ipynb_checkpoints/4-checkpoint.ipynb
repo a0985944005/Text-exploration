{
 "cells": [
  {
   "cell_type": "code",
   "execution_count": 11,
   "metadata": {},
   "outputs": [
    {
     "name": "stdout",
     "output_type": "stream",
     "text": [
      "忘記帳號？\n"
     ]
    }
   ],
   "source": [
    "import requests\n",
    "from bs4 import BeautifulSoup as bs\n",
    "\n",
    "url='https://www.facebook.com/'\n",
    "request_headers={'User-Agent': 'Mozilla/5.0 (Windows NT 10.0; Win64; x64) AppleWebKit/537.36' '(KHTML, like Gecko) Chrome/71.0.3578.98 Safari/537.36'}\n",
    "r=requests.get(url,headers=request_headers)\n",
    "soup=bs(r.text,'lxml')\n",
    "content=soup.select('a')[3].text\n",
    "print(content)\n"
   ]
  },
  {
   "cell_type": "code",
   "execution_count": 24,
   "metadata": {
    "scrolled": true
   },
   "outputs": [
    {
     "name": "stderr",
     "output_type": "stream",
     "text": [
      "Building prefix dict from C:\\Users\\zxc98\\Text exploration\\dict.txt.big ...\n",
      "Loading model from cache C:\\Users\\zxc98\\AppData\\Local\\Temp\\jieba.u80a0144e7a97272ede7e3999aa877ad0.cache\n",
      "Loading model cost 0.970 seconds.\n",
      "Prefix dict has been built succesfully.\n"
     ]
    },
    {
     "name": "stdout",
     "output_type": "stream",
     "text": [
      "Full Mode: 我/聽見/下雨/的/聲音///落/在/青青/青青草/青草/青草地/草地\n",
      "Default Mode: 我/聽見/下雨/的/聲音/，/落/在/青青/草地\n",
      "我,今天,去,了,卡諾,書局\n",
      "行政,行政院,主計,主計處,公布,，,全年,台灣,國民,平均,國民平均,薪資,統計,調查,統計調查\n",
      "二代,神奇,寶貝,區域,限定版\n",
      "word 二代 \t\t start: 0 \t\t end: 2\n",
      "word 神奇 \t\t start: 2 \t\t end: 4\n",
      "word 寶貝 \t\t start: 4 \t\t end: 6\n",
      "word 區域 \t\t start: 6 \t\t end: 8\n",
      "word 限定版 \t\t start: 8 \t\t end: 11\n"
     ]
    }
   ],
   "source": [
    "#encoding=utf-8\n",
    "import jieba\n",
    "jieba.set_dictionary('dict.txt.big')\n",
    "jieba.load_userdict('userdict.txt')\n",
    "\n",
    "wordbags = jieba.cut(\"我聽見下雨的聲音，落在青青草地\",cut_all=True)\n",
    "print(\"Full Mode:\",\"/\".join(wordbags))#全模式\n",
    "\n",
    "wordbags = jieba.cut(\"我聽見下雨的聲音，落在青青草地\",cut_all=False)\n",
    "print(\"Default Mode:\",\"/\".join(wordbags))#精確模式\n",
    "\n",
    "wordbags = jieba.cut(\"我今天去了卡諾書局\")\n",
    "print(\",\".join(wordbags))#預設是精確模式\n",
    "\n",
    "wordbags = jieba.cut_for_search(\"行政院主計處公布，全年台灣國民平均薪資統計調查\")#搜尋引勤模式\n",
    "print(\",\".join(wordbags))\n",
    "\n",
    "wordbags = jieba.cut(\"二代神奇寶貝區域限定版\")\n",
    "print(\",\".join(wordbags))#預設是精確模式\n",
    "\n",
    "result = jieba.tokenize('二代神奇寶貝區域限定版')  #取出段詞位置\n",
    "for tk in result:\n",
    "    print (\"word %s \\t\\t start: %d \\t\\t end: %d\"%(tk[0],tk[1],tk[2]))\n",
    "\n",
    "\n"
   ]
  },
  {
   "cell_type": "code",
   "execution_count": 25,
   "metadata": {},
   "outputs": [
    {
     "name": "stdout",
     "output_type": "stream",
     "text": [
      "詹姆斯/球隊/生日/缺陣/祝福/湖人/國王/獻上/慶祝/因為\n"
     ]
    }
   ],
   "source": [
    "#TF-IDF\n",
    "import jieba\n",
    "import jieba.analyse\n",
    "\n",
    "content=open('jieba_example.txt').read()\n",
    "\n",
    "keywords=jieba.analyse.extract_tags(content,10)#預設值20\n",
    "\n",
    "print(\"/\".join(keywords))"
   ]
  },
  {
   "cell_type": "code",
   "execution_count": 28,
   "metadata": {},
   "outputs": [
    {
     "name": "stdout",
     "output_type": "stream",
     "text": [
      "none\n"
     ]
    }
   ],
   "source": [
    "#正圭表示式1-1\n",
    "import re\n",
    "r=\"hello\"\n",
    "if re.match(r,\"hello world!\"):\n",
    "    print('match')\n",
    "else:\n",
    "    print('none')"
   ]
  },
  {
   "cell_type": "code",
   "execution_count": 51,
   "metadata": {},
   "outputs": [
    {
     "name": "stdout",
     "output_type": "stream",
     "text": [
      "hello\n"
     ]
    }
   ],
   "source": [
    "#正圭表示式1-2\n",
    "import re\n",
    "\n",
    "#編譯正規標示式\n",
    "pattern=re.compile(r'hello')\n",
    "\n",
    "#get 匹配 result，no 匹配 return 'none'\n",
    "match = pattern.match('hello world!')\n",
    "if match:\n",
    "    #get 匹配 result\n",
    "    print(match.group())"
   ]
  },
  {
   "cell_type": "code",
   "execution_count": 50,
   "metadata": {},
   "outputs": [
    {
     "name": "stdout",
     "output_type": "stream",
     "text": [
      "abc\n"
     ]
    }
   ],
   "source": [
    "#正規表示式1-3\n",
    "import re \n",
    "pattern = \"abc\"\n",
    "string = 'wabcfjwoqlq'\n",
    "if re.search(pattern,string):\n",
    "    a=re.search(pattern,string)\n",
    "    print(a.group())\n"
   ]
  },
  {
   "cell_type": "code",
   "execution_count": 54,
   "metadata": {},
   "outputs": [
    {
     "name": "stdout",
     "output_type": "stream",
     "text": [
      "!!!!!abc!!d\n"
     ]
    }
   ],
   "source": [
    "#正規表示式1-4\n",
    "import re\n",
    "pattern='\\d'\n",
    "repl=\"!\"\n",
    "string=\"12345abc54d\"\n",
    "line=re.sub(pattern,repl,string)\n",
    "print(line)\n",
    "#若是數字把它改為驚嘆號"
   ]
  },
  {
   "cell_type": "code",
   "execution_count": 57,
   "metadata": {},
   "outputs": [
    {
     "data": {
      "text/plain": [
       "'??買一送四，這種好康哪裡找??活動期間(至201612/31止)，活動詳細說明: 哪裡買:  而且，現在買面額超過$300以上(含)上網產品，還會送你抵用卷喔!要買上網現在超值啦~~~~~'"
      ]
     },
     "execution_count": 57,
     "metadata": {},
     "output_type": "execute_result"
    }
   ],
   "source": [
    "#正規表示式例子\n",
    "import re \n",
    "#url RegEX\n",
    "pattern = \"((https:|http:)+(//[A-Za-z0-9\\/+=%&_\\:.~?\\-]+))[\\)\\]]*\"\n",
    "#以空格代替\n",
    "repl=\" \"\n",
    "content=\"??買一送四，這種好康哪裡找??活動期間(至201612/31止)，活動詳細說明:http://www.idealcard.com.tw/download_01.php哪裡買:https://www.idealcard.com.tw/telecityII/ebuy_3.php:emoji_1f60d::emoji_1f60d: 而且，現在買面額超過$300以上(含)上網產品，還會送你抵用卷喔!要買上網現在超值啦~~~~~\"\n",
    "\n",
    "re.sub(pattern,repl,content)"
   ]
  },
  {
   "cell_type": "code",
   "execution_count": null,
   "metadata": {},
   "outputs": [],
   "source": []
  },
  {
   "cell_type": "code",
   "execution_count": 133,
   "metadata": {},
   "outputs": [],
   "source": [
    "\n"
   ]
  },
  {
   "cell_type": "code",
   "execution_count": null,
   "metadata": {},
   "outputs": [],
   "source": []
  }
 ],
 "metadata": {
  "kernelspec": {
   "display_name": "Python 3",
   "language": "python",
   "name": "python3"
  },
  "language_info": {
   "codemirror_mode": {
    "name": "ipython",
    "version": 3
   },
   "file_extension": ".py",
   "mimetype": "text/x-python",
   "name": "python",
   "nbconvert_exporter": "python",
   "pygments_lexer": "ipython3",
   "version": "3.6.4"
  }
 },
 "nbformat": 4,
 "nbformat_minor": 2
}
